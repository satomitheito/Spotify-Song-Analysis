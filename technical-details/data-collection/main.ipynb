{
 "cells": [
  {
   "cell_type": "markdown",
   "metadata": {},
   "source": [
    "---\n",
    "title: \"Data Collection\"\n",
    "format:\n",
    "    html: \n",
    "        code-fold: false\n",
    "---"
   ]
  },
  {
   "cell_type": "markdown",
   "metadata": {},
   "source": [
    "{{< include instructions.qmd >}} "
   ]
  },
  {
   "cell_type": "markdown",
   "metadata": {},
   "source": [
    "\n",
    "{{< include overview.qmd >}} "
   ]
  },
  {
   "cell_type": "markdown",
   "metadata": {},
   "source": [
    "{{< include methods.qmd >}} "
   ]
  },
  {
   "cell_type": "markdown",
   "metadata": {},
   "source": [
    "# Code \n",
    "\n",
    "Provide the source code used for this section of the project here.\n",
    "\n",
    "If you're using a package for code organization, you can import it at this point. However, make sure that the **actual workflow steps**—including data processing, analysis, and other key tasks—are conducted and clearly demonstrated on this page. The goal is to show the technical flow of your project, highlighting how the code is executed to achieve your results.\n",
    "\n",
    "Ensure that the code is well-commented to enhance readability and understanding for others who may review or use it. If relevant, link to additional documentation or external references that explain any complex components. This section should give readers a clear view of how the project is implemented from a technical perspective.\n",
    "\n",
    "This page is a technical narrative, NOT just a notebook with a collection of code cells, include in-line Prose, to describe what is going on."
   ]
  },
  {
   "cell_type": "markdown",
   "metadata": {},
   "source": [
    "In the following code...."
   ]
  },
  {
   "cell_type": "code",
   "execution_count": 78,
   "metadata": {},
   "outputs": [],
   "source": [
    "import spotipy\n",
    "import json\n",
    "from spotipy.oauth2 import SpotifyClientCredentials\n",
    "import csv\n",
    "\n",
    "#Read in the json file that has Spotify api credentials \n",
    "with open('info/info.json', 'r') as info_file:\n",
    "    info = json.load(info_file)\n",
    "client_id = info['client_id'] \n",
    "client_secret = info['client_secret']\n",
    "\n",
    "#Set up Spotify client credentials manager using clientID and cleint secret\n",
    "client_credentials_manager = SpotifyClientCredentials(client_id=client_id, client_secret=client_secret)\n",
    "#Create Spotify client object\n",
    "sp = spotipy.Spotify(client_credentials_manager=client_credentials_manager)\n"
   ]
  },
  {
   "cell_type": "code",
   "execution_count": 79,
   "metadata": {},
   "outputs": [],
   "source": [
    "tracks_data = []\n",
    "\n",
    "#Rolling Stone Top 100 Spoitfy URL\n",
    "playlist_uri = 'https://open.spotify.com/playlist/67ZwkI5fZsA7mTHbF4Wk86?si=76d7c1b4681a4b5e'\n",
    "\n",
    "#Get the tracks from the playlist\n",
    "playlist_tracks = sp.playlist_tracks(playlist_uri)\n",
    "\n",
    "#Iterate through the playlist\n",
    "while playlist_tracks:\n",
    "    for item in playlist_tracks['items']:\n",
    "        track = item['track']\n",
    "        #Get rack name\n",
    "        track_name = track['name']\n",
    "\n",
    "        #Initialize list to store artist name\n",
    "        artist_names = []\n",
    "        #Get names of the artist with the track\n",
    "        for artist in track['artists']:\n",
    "            artist_names.append(artist['name'])\n",
    "            #Joins multiple artists (if there is a song with more than one artist)\n",
    "            track_artists = ' & '.join(artist_names)\n",
    "        tracks_data.append([track_name, track_artists])\n",
    "        \n",
    "    #Exit loop\n",
    "    playlist_tracks = None"
   ]
  },
  {
   "cell_type": "code",
   "execution_count": 80,
   "metadata": {},
   "outputs": [],
   "source": [
    "#Create csv path \n",
    "csv_file_path = '../../data/raw-data/rolling_stone_top_100.csv'\n",
    "\n",
    "#Creates the csv file and writes into it\n",
    "with open(csv_file_path, mode='w', newline='') as file:\n",
    "    #Creates csv wrriter\n",
    "    writer = csv.writer(file)\n",
    "    #Write headers\n",
    "    writer.writerow(['Track Name', 'Artists'])\n",
    "    #Add in tracks_data into the rows \n",
    "    writer.writerows(tracks_data)"
   ]
  },
  {
   "cell_type": "code",
   "execution_count": 81,
   "metadata": {},
   "outputs": [
    {
     "name": "stdout",
     "output_type": "stream",
     "text": [
      "No matching track found for: Forever by Hovvdy\n",
      "No matching track found for: Fun! by May Rio & Elegant Ensemble\n"
     ]
    }
   ],
   "source": [
    "#Intialize lists\n",
    "tracks_info = []\n",
    "artists_info = {}\n",
    "\n",
    "#Iterate over each tack in tracks_Data\n",
    "for item in tracks_data:\n",
    "    #Grabs the track name\n",
    "    track_name = item[0]  \n",
    "    #Grabs the artist name\n",
    "    artists = item[1]  \n",
    "\n",
    "    #Initialize\n",
    "    track_info = None\n",
    "\n",
    "    #Uses Spotify API to search track\n",
    "    track = sp.search(q=f\"track:{track_name}\", type='track', limit=50)\n",
    " \n",
    "    while track:\n",
    "        #Iterate through all the search results\n",
    "        for search_result in track['tracks']['items']:\n",
    "            search_result_artists = []\n",
    "            for artist in search_result['artists']:\n",
    "                #Extract the names of artists that was found in the search result into a list\n",
    "                search_result_artists.append(artist['name'])\n",
    "            #Check if the artists from tracks_data are a subset of search_result_artists\n",
    "            if set(artists.split(' & ')).issubset(search_result_artists):\n",
    "                #Check if the artists from tracks_data are a subset of search_result_artists\n",
    "                track_info = search_result\n",
    "                break\n",
    "        #Break the outer loop if a match has been found\n",
    "        if track_info:\n",
    "            break\n",
    "        #If next page available and song not found, go to the next page of results \n",
    "        if track['tracks']['next']:\n",
    "            track = sp.next(track['tracks'])\n",
    "        else:\n",
    "            track = None\n",
    "\n",
    "    #Even after all the searching, if song not found, \n",
    "    if not track_info:\n",
    "        print(f\"No matching track found for: {track_name} by {artists}\")\n",
    "        continue\n",
    "\n",
    "    #Create dictionary with desired info about the track\n",
    "    track_details = {\n",
    "        'track_id': track_info['id'],\n",
    "        'name': track_info['name'],\n",
    "        'popularity': track_info['popularity'],\n",
    "        'album': track_info['album']['name'],\n",
    "        'release_date': track_info['album']['release_date'],\n",
    "        'duration_ms': track_info['duration_ms'],\n",
    "        'artist': track_info['artists'][0]['name'],\n",
    "        'explicit': track_info['explicit']\n",
    "    }\n",
    "    tracks_info.append(track_details)\n",
    "\n",
    "    #Iterates through the artists associated with the tracks\n",
    "    for artist in track_info['artists']:\n",
    "        #Get artist ID\n",
    "        artist_id = artist['id']\n",
    "        #Checks for duplicates \n",
    "        if artist_id not in artists_info:  \n",
    "            #Uses the artist ID to get info about the artists\n",
    "            artist_info = sp.artist(artist_id)\n",
    "            #Adds the information to the created dictionary\n",
    "            artists_info[artist_id] = {\n",
    "                'id': artist_info['id'],\n",
    "                'name': artist_info['name'],\n",
    "                'genres': artist_info['genres'],\n",
    "                'followers': artist_info['followers']['total'],\n",
    "                'popularity': artist_info['popularity'],\n",
    "            }\n"
   ]
  },
  {
   "cell_type": "code",
   "execution_count": 82,
   "metadata": {},
   "outputs": [],
   "source": [
    "#Create csv paths\n",
    "tracks_csv_path = '../../data/raw-data/tracks_data.csv'\n",
    "artists_csv_path = '../../data/raw-data/artists_data.csv'\n",
    "\n",
    "#Creates the csv file and writes into it\n",
    "with open(tracks_csv_path, mode='w', newline='') as tracks_file:\n",
    "    #Creates csv wrriter\n",
    "    writer = csv.writer(tracks_file)\n",
    "    #Write headers\n",
    "    writer.writerow(['Track ID', 'Track Name', 'Popularity', 'Album', 'Release Date', 'Duration (ms)', 'Artist', 'Explicit'])\n",
    "    #Loops through dictionary to write into into csv\n",
    "    for track in tracks_info:\n",
    "        writer.writerow([\n",
    "            track['track_id'],\n",
    "            track['name'],\n",
    "            track['popularity'],\n",
    "            track['album'],\n",
    "            track['release_date'],\n",
    "            track['duration_ms'],\n",
    "            track['artist'],\n",
    "            track['explicit']\n",
    "        ])\n",
    "\n",
    "#Creates the csv file and writes into it\n",
    "with open(artists_csv_path, mode='w', newline='') as artists_file:\n",
    "    #Creates csv wrriter\n",
    "    writer = csv.writer(artists_file)\n",
    "    #Write headers\n",
    "    writer.writerow(['Artist ID', 'Name', 'Genres', 'Followers', 'Popularity'])\n",
    "    #Loops through dictionary to write into into csv\n",
    "    for artist_id, artist in artists_info.items():\n",
    "        writer.writerow([\n",
    "            artist['id'],\n",
    "            artist['name'],\n",
    "            ', '.join(artist['genres']), \n",
    "            artist['followers'],\n",
    "            artist['popularity']\n",
    "        ])"
   ]
  },
  {
   "cell_type": "markdown",
   "metadata": {},
   "source": [
    "{{< include closing.qmd >}} "
   ]
  }
 ],
 "metadata": {
  "kernelspec": {
   "display_name": "dsan5000",
   "language": "python",
   "name": "python3"
  },
  "language_info": {
   "codemirror_mode": {
    "name": "ipython",
    "version": 3
   },
   "file_extension": ".py",
   "mimetype": "text/x-python",
   "name": "python",
   "nbconvert_exporter": "python",
   "pygments_lexer": "ipython3",
   "version": "3.12.5"
  }
 },
 "nbformat": 4,
 "nbformat_minor": 2
}
